{
 "cells": [
  {
   "cell_type": "code",
   "execution_count": 2,
   "metadata": {},
   "outputs": [],
   "source": [
    "import pandas as pd\n",
    "import matplotlib.pyplot as plt\n",
    "from collections import Counter"
   ]
  },
  {
   "cell_type": "code",
   "execution_count": 3,
   "metadata": {},
   "outputs": [
    {
     "data": {
      "text/plain": [
       "(35172, 6)"
      ]
     },
     "execution_count": 3,
     "metadata": {},
     "output_type": "execute_result"
    }
   ],
   "source": [
    "df = pd.read_csv('clean_dataset.csv', sep = ';', encoding='latin-1')\n",
    "\n",
    "df.shape"
   ]
  },
  {
   "cell_type": "code",
   "execution_count": 27,
   "metadata": {},
   "outputs": [
    {
     "data": {
      "image/png": "[encoded data removed]",
      "text/plain": [
       "<Figure size 432x288 with 1 Axes>"
      ]
     },
     "metadata": {
      "needs_background": "light"
     },
     "output_type": "display_data"
    }
   ],
   "source": [
    "bars = []\n",
    "\n",
    "\n",
    "colors = ['#ff0000', '#ff00ff', '#0000ff', '#00ffff', '#00ff00']\n",
    "score_counter = Counter(pd.to_numeric(df['score'], downcast = 'integer'))\n",
    "\n",
    "for i in range(len(score_counter)):\n",
    "    if i == 0:\n",
    "        string_label = f'{i+1} stella'\n",
    "    else:\n",
    "        string_label = f'{i+1} stelle'\n",
    "    bar = plt.bar(string_label, score_counter[i+1], width = 0.7, color = colors[i], alpha = 0.7)\n",
    "    bars.append(bar)\n",
    "\n",
    "for rect in bars[0] + bars[1] + bars[2] + bars[3] + bars[4]:\n",
    "    height = rect.get_height()\n",
    "    plt.text(rect.get_x() + rect.get_width()/2.0, height, '%d' % int(height), ha='center', va='bottom')\n",
    "    \n",
    "\n",
    "'''\n",
    "\n",
    "colors = ['#ff0000', '#0000ff', '#00ff00']\n",
    "sentiment_score = Counter(df['sentiment'])\n",
    "\n",
    "for i, e in enumerate(sorted(sentiment_score)):\n",
    "    bar = plt.bar(e, sentiment_score[e], width = 0.7, color = colors[i], alpha = 0.7)\n",
    "    bars.append(bar)\n",
    "    \n",
    "for rect in bars[0] + bars[1] + bars[2]:\n",
    "    height = rect.get_height()\n",
    "    plt.text(rect.get_x() + rect.get_width()/2.0, height, '%d' % int(height), ha='center', va='bottom')\n",
    "'''\n",
    "\n",
    "\n",
    "plt.grid(True)\n",
    "plt.ylabel('Numero di occorrenze')\n",
    "\n",
    "plt.xlabel('Voto stelle')\n",
    "plt.savefig('stars_distribution.png', dpi = 180)\n",
    "\n",
    "# plt.xlabel('Sentiment')\n",
    "# plt.savefig('sentiment_distribution.png', dpi = 180)\n",
    "\n",
    "plt.show()"
   ]
  },
  {
   "cell_type": "code",
   "execution_count": null,
   "metadata": {},
   "outputs": [],
   "source": []
  }
 ],
 "metadata": {
  "kernelspec": {
   "display_name": "Python 3",
   "language": "python",
   "name": "python3"
  },
  "language_info": {
   "codemirror_mode": {
    "name": "ipython",
    "version": 3
   },
   "file_extension": ".py",
   "mimetype": "text/x-python",
   "name": "python",
   "nbconvert_exporter": "python",
   "pygments_lexer": "ipython3",
   "version": "3.6.8"
  }
 },
 "nbformat": 4,
 "nbformat_minor": 2
}
