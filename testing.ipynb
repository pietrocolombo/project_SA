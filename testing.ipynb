{
 "cells": [
  {
   "cell_type": "code",
   "execution_count": 311,
   "metadata": {},
   "outputs": [],
   "source": [
    "import string\n",
    "import pandas as pd\n",
    "import numpy as np\n",
    "from bs4 import BeautifulSoup\n",
    "from collections import Counter\n",
    "from nltk.tokenize import TweetTokenizer\n",
    "from textblob import TextBlob"
   ]
  },
  {
   "cell_type": "code",
   "execution_count": 312,
   "metadata": {},
   "outputs": [
    {
     "name": "stderr",
     "output_type": "stream",
     "text": [
      "[nltk_data] Downloading package punkt to /home/coich/nltk_data...\n",
      "[nltk_data]   Package punkt is already up-to-date!\n",
      "[nltk_data] Downloading package stopwords to /home/coich/nltk_data...\n",
      "[nltk_data]   Package stopwords is already up-to-date!\n"
     ]
    },
    {
     "data": {
      "text/plain": [
       "True"
      ]
     },
     "execution_count": 312,
     "metadata": {},
     "output_type": "execute_result"
    }
   ],
   "source": [
    "import nltk\n",
    "nltk.download('punkt')\n",
    "nltk.download('stopwords')"
   ]
  },
  {
   "cell_type": "code",
   "execution_count": 313,
   "metadata": {},
   "outputs": [
    {
     "data": {
      "text/html": [
       "<div>\n",
       "<style scoped>\n",
       "    .dataframe tbody tr th:only-of-type {\n",
       "        vertical-align: middle;\n",
       "    }\n",
       "\n",
       "    .dataframe tbody tr th {\n",
       "        vertical-align: top;\n",
       "    }\n",
       "\n",
       "    .dataframe thead th {\n",
       "        text-align: right;\n",
       "    }\n",
       "</style>\n",
       "<table border=\"1\" class=\"dataframe\">\n",
       "  <thead>\n",
       "    <tr style=\"text-align: right;\">\n",
       "      <th></th>\n",
       "      <th>productid</th>\n",
       "      <th>userid</th>\n",
       "      <th>score</th>\n",
       "      <th>text</th>\n",
       "    </tr>\n",
       "  </thead>\n",
       "  <tbody>\n",
       "    <tr>\n",
       "      <th>0</th>\n",
       "      <td>B001E4KFG0</td>\n",
       "      <td>A3SGXH7AUHU8GW</td>\n",
       "      <td>5.0</td>\n",
       "      <td>I have bought several of the Vitality canned d...</td>\n",
       "    </tr>\n",
       "  </tbody>\n",
       "</table>\n",
       "</div>"
      ],
      "text/plain": [
       "    productid          userid  score  \\\n",
       "0  B001E4KFG0  A3SGXH7AUHU8GW    5.0   \n",
       "\n",
       "                                                text  \n",
       "0  I have bought several of the Vitality canned d...  "
      ]
     },
     "execution_count": 313,
     "metadata": {},
     "output_type": "execute_result"
    }
   ],
   "source": [
    "df = pd.read_csv('food.tsv', sep = '\\t', encoding='latin-1')\n",
    "df.head(1)"
   ]
  },
  {
   "cell_type": "code",
   "execution_count": 314,
   "metadata": {},
   "outputs": [],
   "source": [
    "df['text'] = df['text'].str.lower()\n",
    "# df['text'] = df['text'].str.replace('.', ' . ')\n",
    "df['text'] = [BeautifulSoup(review, 'html.parser').get_text() for review in df['text']]\n",
    "\n",
    "reviews = df['text']"
   ]
  },
  {
   "cell_type": "code",
   "execution_count": 315,
   "metadata": {},
   "outputs": [
    {
     "name": "stdout",
     "output_type": "stream",
     "text": [
      "[('<>', 4), ('<g>', 2), ('<just pour the powder to 32oz water bottle and shake well - directions on the box say to use 500ml(16.9oz) but the tea is really strong so we use 1l bottle)>', 1), ('<grin>', 1), ('<sigh>', 1), ('<smile>', 1), ('<vbg>', 1)]\n"
     ]
    }
   ],
   "source": [
    "import re\n",
    "\n",
    "def counting(reviews):\n",
    "    tags = []\n",
    "\n",
    "    for review in reviews:\n",
    "        tag = re.findall('<[^<>]*>', review)\n",
    "        if tag:\n",
    "            tags.append(tag)\n",
    "\n",
    "    tags = [item for tag in tags for item in tag]\n",
    "    counter_tags = Counter(tags)\n",
    "    print(counter_tags.most_common(10))\n",
    "\n",
    "counting(reviews)"
   ]
  },
  {
   "cell_type": "markdown",
   "metadata": {},
   "source": [
    "### Preprocessing sentences"
   ]
  },
  {
   "cell_type": "code",
   "execution_count": 316,
   "metadata": {},
   "outputs": [
    {
     "data": {
      "text/plain": [
       "0    [i, have, bought, several, of, the, vitality, ...\n",
       "Name: text, dtype: object"
      ]
     },
     "execution_count": 316,
     "metadata": {},
     "output_type": "execute_result"
    }
   ],
   "source": [
    "tokenizer = TweetTokenizer(reduce_len=True, strip_handles=True)\n",
    "reviews_tokenized = reviews.apply(tokenizer.tokenize)\n",
    "reviews_tokenized.head(1)"
   ]
  },
  {
   "cell_type": "code",
   "execution_count": 317,
   "metadata": {},
   "outputs": [
    {
     "data": {
      "text/plain": [
       "0    [bought, several, vitality, canned, dog, food,...\n",
       "Name: text, dtype: object"
      ]
     },
     "execution_count": 317,
     "metadata": {},
     "output_type": "execute_result"
    }
   ],
   "source": [
    "from nltk.corpus import stopwords\n",
    "stop = stopwords.words('english')\n",
    "#stop.add('fdsg')\n",
    "\n",
    "reviews_tokenized = reviews_tokenized.apply(lambda review: [item for item in review if item not in stop])\n",
    "reviews_tokenized.head(1)"
   ]
  },
  {
   "cell_type": "code",
   "execution_count": 318,
   "metadata": {},
   "outputs": [
    {
     "data": {
      "text/plain": [
       "0    [bought, several, vitality, canned, dog, food,...\n",
       "Name: text, dtype: object"
      ]
     },
     "execution_count": 318,
     "metadata": {},
     "output_type": "execute_result"
    }
   ],
   "source": [
    "from nltk import wordpunct_tokenize\n",
    "punctuation = string.punctuation\n",
    "\n",
    "reviews_tokenized = reviews_tokenized.apply(lambda review: [item for item in review if item not in punctuation])\n",
    "reviews_tokenized.head(1)"
   ]
  },
  {
   "cell_type": "code",
   "execution_count": 234,
   "metadata": {},
   "outputs": [
    {
     "data": {
      "text/plain": [
       "0    [i, bought, sev, vit, can, dog, food, produc, ...\n",
       "Name: text, dtype: object"
      ]
     },
     "execution_count": 234,
     "metadata": {},
     "output_type": "execute_result"
    }
   ],
   "source": [
    "from nltk.stem.lancaster import LancasterStemmer\n",
    "lancaster_stemmer = LancasterStemmer()\n",
    "\n",
    "reviews_tokenized = reviews_tokenized.apply(lambda review: [lancaster_stemmer.stem(item) for item in review])\n",
    "reviews_tokenized.head(1)"
   ]
  },
  {
   "cell_type": "code",
   "execution_count": 319,
   "metadata": {},
   "outputs": [
    {
     "data": {
      "text/plain": [
       "[('like', 14246),\n",
       " ('good', 11297),\n",
       " ('coffee', 9776),\n",
       " ('great', 9733),\n",
       " ('taste', 9488),\n",
       " ('one', 9445),\n",
       " ('product', 8239),\n",
       " ('flavor', 8128),\n",
       " ('love', 7332),\n",
       " ('would', 7129)]"
      ]
     },
     "execution_count": 319,
     "metadata": {},
     "output_type": "execute_result"
    }
   ],
   "source": [
    "words_list = [item for review in reviews_tokenized for item in review]\n",
    "counter_words = Counter(words_list)\n",
    "counter_words.most_common(10)"
   ]
  },
  {
   "cell_type": "code",
   "execution_count": 320,
   "metadata": {},
   "outputs": [],
   "source": [
    "reviews_clean = [' '.join(review).lower() for review in reviews_tokenized]\n",
    "\n",
    "df['clean_text'] = reviews_clean"
   ]
  },
  {
   "cell_type": "code",
   "execution_count": 321,
   "metadata": {},
   "outputs": [],
   "source": [
    "def stars_to_sentiment(score):\n",
    "    if score in [1, 2] :\n",
    "        return 'negative'\n",
    "    elif score in [4, 5] :\n",
    "        return 'positive'\n",
    "    else:\n",
    "        return 'neutral'"
   ]
  },
  {
   "cell_type": "code",
   "execution_count": 322,
   "metadata": {},
   "outputs": [
    {
     "data": {
      "text/html": [
       "<div>\n",
       "<style scoped>\n",
       "    .dataframe tbody tr th:only-of-type {\n",
       "        vertical-align: middle;\n",
       "    }\n",
       "\n",
       "    .dataframe tbody tr th {\n",
       "        vertical-align: top;\n",
       "    }\n",
       "\n",
       "    .dataframe thead th {\n",
       "        text-align: right;\n",
       "    }\n",
       "</style>\n",
       "<table border=\"1\" class=\"dataframe\">\n",
       "  <thead>\n",
       "    <tr style=\"text-align: right;\">\n",
       "      <th></th>\n",
       "      <th>productid</th>\n",
       "      <th>userid</th>\n",
       "      <th>score</th>\n",
       "      <th>text</th>\n",
       "      <th>clean_text</th>\n",
       "      <th>sentiment</th>\n",
       "    </tr>\n",
       "  </thead>\n",
       "  <tbody>\n",
       "    <tr>\n",
       "      <th>0</th>\n",
       "      <td>B001E4KFG0</td>\n",
       "      <td>A3SGXH7AUHU8GW</td>\n",
       "      <td>5</td>\n",
       "      <td>i have bought several of the vitality canned d...</td>\n",
       "      <td>bought several vitality canned dog food produc...</td>\n",
       "      <td>positive</td>\n",
       "    </tr>\n",
       "  </tbody>\n",
       "</table>\n",
       "</div>"
      ],
      "text/plain": [
       "    productid          userid  score  \\\n",
       "0  B001E4KFG0  A3SGXH7AUHU8GW      5   \n",
       "\n",
       "                                                text  \\\n",
       "0  i have bought several of the vitality canned d...   \n",
       "\n",
       "                                          clean_text sentiment  \n",
       "0  bought several vitality canned dog food produc...  positive  "
      ]
     },
     "execution_count": 322,
     "metadata": {},
     "output_type": "execute_result"
    }
   ],
   "source": [
    "df['score'] = pd.to_numeric(df['score'], downcast = 'integer')\n",
    "\n",
    "df['sentiment'] = df['score'].apply(stars_to_sentiment)\n",
    "df.head(1)"
   ]
  },
  {
   "cell_type": "code",
   "execution_count": 323,
   "metadata": {},
   "outputs": [],
   "source": [
    "df.to_csv('clean_dataset.csv', sep = ';', index=False)"
   ]
  },
  {
   "cell_type": "code",
   "execution_count": 338,
   "metadata": {},
   "outputs": [
    {
     "data": {
      "text/html": [
       "<div>\n",
       "<style scoped>\n",
       "    .dataframe tbody tr th:only-of-type {\n",
       "        vertical-align: middle;\n",
       "    }\n",
       "\n",
       "    .dataframe tbody tr th {\n",
       "        vertical-align: top;\n",
       "    }\n",
       "\n",
       "    .dataframe thead th {\n",
       "        text-align: right;\n",
       "    }\n",
       "</style>\n",
       "<table border=\"1\" class=\"dataframe\">\n",
       "  <thead>\n",
       "    <tr style=\"text-align: right;\">\n",
       "      <th></th>\n",
       "      <th>productid</th>\n",
       "      <th>userid</th>\n",
       "      <th>score</th>\n",
       "      <th>text</th>\n",
       "      <th>clean_text</th>\n",
       "      <th>sentiment</th>\n",
       "    </tr>\n",
       "  </thead>\n",
       "  <tbody>\n",
       "    <tr>\n",
       "      <th>0</th>\n",
       "      <td>B001E4KFG0</td>\n",
       "      <td>A3SGXH7AUHU8GW</td>\n",
       "      <td>5</td>\n",
       "      <td>i have bought several of the vitality canned d...</td>\n",
       "      <td>bought several vitality canned dog food produc...</td>\n",
       "      <td>positive</td>\n",
       "    </tr>\n",
       "    <tr>\n",
       "      <th>1</th>\n",
       "      <td>B00813GRG4</td>\n",
       "      <td>A1D87F6ZCVE5NK</td>\n",
       "      <td>1</td>\n",
       "      <td>product arrived labeled as jumbo salted peanut...</td>\n",
       "      <td>product arrived labeled jumbo salted peanuts ....</td>\n",
       "      <td>negative</td>\n",
       "    </tr>\n",
       "    <tr>\n",
       "      <th>2</th>\n",
       "      <td>B000LQOCH0</td>\n",
       "      <td>ABXLMWJIXXAIN</td>\n",
       "      <td>4</td>\n",
       "      <td>this is a confection that has been around a fe...</td>\n",
       "      <td>confection around centuries light pillowy citr...</td>\n",
       "      <td>positive</td>\n",
       "    </tr>\n",
       "    <tr>\n",
       "      <th>3</th>\n",
       "      <td>B000UA0QIQ</td>\n",
       "      <td>A395BORC6FGVXV</td>\n",
       "      <td>2</td>\n",
       "      <td>if you are looking for the secret ingredient i...</td>\n",
       "      <td>looking secret ingredient robitussin believe f...</td>\n",
       "      <td>negative</td>\n",
       "    </tr>\n",
       "    <tr>\n",
       "      <th>4</th>\n",
       "      <td>B006K2ZZ7K</td>\n",
       "      <td>A1UQRSCLF8GW1T</td>\n",
       "      <td>5</td>\n",
       "      <td>great taffy at a great price.  there was a wid...</td>\n",
       "      <td>great taffy great price wide assortment yummy ...</td>\n",
       "      <td>positive</td>\n",
       "    </tr>\n",
       "  </tbody>\n",
       "</table>\n",
       "</div>"
      ],
      "text/plain": [
       "    productid          userid  score  \\\n",
       "0  B001E4KFG0  A3SGXH7AUHU8GW      5   \n",
       "1  B00813GRG4  A1D87F6ZCVE5NK      1   \n",
       "2  B000LQOCH0   ABXLMWJIXXAIN      4   \n",
       "3  B000UA0QIQ  A395BORC6FGVXV      2   \n",
       "4  B006K2ZZ7K  A1UQRSCLF8GW1T      5   \n",
       "\n",
       "                                                text  \\\n",
       "0  i have bought several of the vitality canned d...   \n",
       "1  product arrived labeled as jumbo salted peanut...   \n",
       "2  this is a confection that has been around a fe...   \n",
       "3  if you are looking for the secret ingredient i...   \n",
       "4  great taffy at a great price.  there was a wid...   \n",
       "\n",
       "                                          clean_text sentiment  \n",
       "0  bought several vitality canned dog food produc...  positive  \n",
       "1  product arrived labeled jumbo salted peanuts ....  negative  \n",
       "2  confection around centuries light pillowy citr...  positive  \n",
       "3  looking secret ingredient robitussin believe f...  negative  \n",
       "4  great taffy great price wide assortment yummy ...  positive  "
      ]
     },
     "execution_count": 338,
     "metadata": {},
     "output_type": "execute_result"
    }
   ],
   "source": [
    "df = pd.read_csv('clean_dataset.csv', sep = ';', encoding='latin-1')\n",
    "df.head()"
   ]
  },
  {
   "cell_type": "markdown",
   "metadata": {},
   "source": [
    "### Some classification"
   ]
  },
  {
   "cell_type": "code",
   "execution_count": 286,
   "metadata": {},
   "outputs": [],
   "source": [
    "def polarity(text_clean):\n",
    "    line = TextBlob(text_clean)\n",
    "    return line.sentiment.polarity\n",
    "\n",
    "def subjectivity(text_clean):\n",
    "    line = TextBlob(text_clean)\n",
    "    return line.sentiment.subjectivity"
   ]
  },
  {
   "cell_type": "code",
   "execution_count": 287,
   "metadata": {},
   "outputs": [
    {
     "data": {
      "text/html": [
       "<div>\n",
       "<style scoped>\n",
       "    .dataframe tbody tr th:only-of-type {\n",
       "        vertical-align: middle;\n",
       "    }\n",
       "\n",
       "    .dataframe tbody tr th {\n",
       "        vertical-align: top;\n",
       "    }\n",
       "\n",
       "    .dataframe thead th {\n",
       "        text-align: right;\n",
       "    }\n",
       "</style>\n",
       "<table border=\"1\" class=\"dataframe\">\n",
       "  <thead>\n",
       "    <tr style=\"text-align: right;\">\n",
       "      <th></th>\n",
       "      <th>productid</th>\n",
       "      <th>userid</th>\n",
       "      <th>score</th>\n",
       "      <th>text</th>\n",
       "      <th>clean_text</th>\n",
       "      <th>sentiment</th>\n",
       "      <th>polarity</th>\n",
       "      <th>subjectivity</th>\n",
       "    </tr>\n",
       "  </thead>\n",
       "  <tbody>\n",
       "    <tr>\n",
       "      <th>0</th>\n",
       "      <td>B001E4KFG0</td>\n",
       "      <td>A3SGXH7AUHU8GW</td>\n",
       "      <td>5</td>\n",
       "      <td>i have bought several of the vitality canned d...</td>\n",
       "      <td>bought several vitality canned dog food produc...</td>\n",
       "      <td>positive</td>\n",
       "      <td>0.425</td>\n",
       "      <td>0.4</td>\n",
       "    </tr>\n",
       "  </tbody>\n",
       "</table>\n",
       "</div>"
      ],
      "text/plain": [
       "    productid          userid  score  \\\n",
       "0  B001E4KFG0  A3SGXH7AUHU8GW      5   \n",
       "\n",
       "                                                text  \\\n",
       "0  i have bought several of the vitality canned d...   \n",
       "\n",
       "                                          clean_text sentiment  polarity  \\\n",
       "0  bought several vitality canned dog food produc...  positive     0.425   \n",
       "\n",
       "   subjectivity  \n",
       "0           0.4  "
      ]
     },
     "execution_count": 287,
     "metadata": {},
     "output_type": "execute_result"
    }
   ],
   "source": [
    "df['polarity'] = df['clean_text'].apply(polarity)\n",
    "df['subjectivity'] = df['clean_text'].apply(subjectivity)\n",
    "df.head(1)"
   ]
  },
  {
   "cell_type": "code",
   "execution_count": 288,
   "metadata": {},
   "outputs": [],
   "source": [
    "def sentiment_number(sentiment):\n",
    "    if sentiment == 'negative':\n",
    "        return -1\n",
    "    elif sentiment == 'positive':\n",
    "        return 1\n",
    "    else:\n",
    "        return 0"
   ]
  },
  {
   "cell_type": "code",
   "execution_count": 289,
   "metadata": {},
   "outputs": [
    {
     "data": {
      "text/html": [
       "<div>\n",
       "<style scoped>\n",
       "    .dataframe tbody tr th:only-of-type {\n",
       "        vertical-align: middle;\n",
       "    }\n",
       "\n",
       "    .dataframe tbody tr th {\n",
       "        vertical-align: top;\n",
       "    }\n",
       "\n",
       "    .dataframe thead th {\n",
       "        text-align: right;\n",
       "    }\n",
       "</style>\n",
       "<table border=\"1\" class=\"dataframe\">\n",
       "  <thead>\n",
       "    <tr style=\"text-align: right;\">\n",
       "      <th></th>\n",
       "      <th>productid</th>\n",
       "      <th>userid</th>\n",
       "      <th>score</th>\n",
       "      <th>text</th>\n",
       "      <th>clean_text</th>\n",
       "      <th>sentiment</th>\n",
       "      <th>polarity</th>\n",
       "      <th>subjectivity</th>\n",
       "    </tr>\n",
       "  </thead>\n",
       "  <tbody>\n",
       "    <tr>\n",
       "      <th>0</th>\n",
       "      <td>B001E4KFG0</td>\n",
       "      <td>A3SGXH7AUHU8GW</td>\n",
       "      <td>5</td>\n",
       "      <td>i have bought several of the vitality canned d...</td>\n",
       "      <td>bought several vitality canned dog food produc...</td>\n",
       "      <td>1</td>\n",
       "      <td>0.425</td>\n",
       "      <td>0.4</td>\n",
       "    </tr>\n",
       "  </tbody>\n",
       "</table>\n",
       "</div>"
      ],
      "text/plain": [
       "    productid          userid  score  \\\n",
       "0  B001E4KFG0  A3SGXH7AUHU8GW      5   \n",
       "\n",
       "                                                text  \\\n",
       "0  i have bought several of the vitality canned d...   \n",
       "\n",
       "                                          clean_text  sentiment  polarity  \\\n",
       "0  bought several vitality canned dog food produc...          1     0.425   \n",
       "\n",
       "   subjectivity  \n",
       "0           0.4  "
      ]
     },
     "execution_count": 289,
     "metadata": {},
     "output_type": "execute_result"
    }
   ],
   "source": [
    "df['sentiment'] = df['sentiment'].apply(sentiment_number)\n",
    "df.head(1)"
   ]
  },
  {
   "cell_type": "code",
   "execution_count": 290,
   "metadata": {},
   "outputs": [],
   "source": [
    "score_counter = Counter((df['score']-3)/2)\n",
    "sentiment_counter = Counter(df['sentiment'])\n",
    "polarity_counter = Counter(df['polarity'].round(1))"
   ]
  },
  {
   "cell_type": "code",
   "execution_count": 291,
   "metadata": {},
   "outputs": [
    {
     "data": {
      "image/png": "[encoded data removed]",
      "text/plain": [
       "<Figure size 432x288 with 1 Axes>"
      ]
     },
     "metadata": {
      "needs_background": "light"
     },
     "output_type": "display_data"
    }
   ],
   "source": [
    "import matplotlib.pyplot as plt\n",
    "\n",
    "legend = []\n",
    "labels = []\n",
    "colors = ['#ff0000', '#00ff00', '#0000ff']\n",
    "\n",
    "legend.append(plt.bar(list(score_counter.keys()), list(score_counter.values()), \\\n",
    "                      width = 0.1, color = colors[0], alpha = 0.5)[0])\n",
    "labels.append('score_counter')\n",
    "\n",
    "#legend.append(plt.bar(list(sentiment_counter.keys()), list(sentiment_counter.values()), width = 0.1, color = colors[0])[0])\n",
    "#labels.append('sentiment')\n",
    "\n",
    "legend.append(plt.bar(list(polarity_counter.keys()), list(polarity_counter.values()), \\\n",
    "                      width = 0.1, color = colors[1], alpha = 0.5)[0])\n",
    "labels.append('polarity')\n",
    "\n",
    "plt.grid(True)\n",
    "plt.legend(legend, labels)\n",
    "plt.show()"
   ]
  },
  {
   "cell_type": "markdown",
   "metadata": {},
   "source": [
    "### Based-Aspect Sentiment Analysis"
   ]
  },
  {
   "cell_type": "code",
   "execution_count": 339,
   "metadata": {},
   "outputs": [
    {
     "data": {
      "text/html": [
       "<div>\n",
       "<style scoped>\n",
       "    .dataframe tbody tr th:only-of-type {\n",
       "        vertical-align: middle;\n",
       "    }\n",
       "\n",
       "    .dataframe tbody tr th {\n",
       "        vertical-align: top;\n",
       "    }\n",
       "\n",
       "    .dataframe thead th {\n",
       "        text-align: right;\n",
       "    }\n",
       "</style>\n",
       "<table border=\"1\" class=\"dataframe\">\n",
       "  <thead>\n",
       "    <tr style=\"text-align: right;\">\n",
       "      <th></th>\n",
       "      <th>productid</th>\n",
       "      <th>userid</th>\n",
       "      <th>score</th>\n",
       "      <th>text</th>\n",
       "      <th>clean_text</th>\n",
       "      <th>sentiment</th>\n",
       "    </tr>\n",
       "  </thead>\n",
       "  <tbody>\n",
       "    <tr>\n",
       "      <th>0</th>\n",
       "      <td>B001E4KFG0</td>\n",
       "      <td>A3SGXH7AUHU8GW</td>\n",
       "      <td>5</td>\n",
       "      <td>i have bought several of the vitality canned d...</td>\n",
       "      <td>bought several vitality canned dog food produc...</td>\n",
       "      <td>positive</td>\n",
       "    </tr>\n",
       "  </tbody>\n",
       "</table>\n",
       "</div>"
      ],
      "text/plain": [
       "    productid          userid  score  \\\n",
       "0  B001E4KFG0  A3SGXH7AUHU8GW      5   \n",
       "\n",
       "                                                text  \\\n",
       "0  i have bought several of the vitality canned d...   \n",
       "\n",
       "                                          clean_text sentiment  \n",
       "0  bought several vitality canned dog food produc...  positive  "
      ]
     },
     "execution_count": 339,
     "metadata": {},
     "output_type": "execute_result"
    }
   ],
   "source": [
    "df = pd.read_csv('clean_dataset.csv', sep = ';', encoding='latin-1')\n",
    "df.head(1)"
   ]
  },
  {
   "cell_type": "code",
   "execution_count": 340,
   "metadata": {},
   "outputs": [
    {
     "data": {
      "text/html": [
       "<div>\n",
       "<style scoped>\n",
       "    .dataframe tbody tr th:only-of-type {\n",
       "        vertical-align: middle;\n",
       "    }\n",
       "\n",
       "    .dataframe tbody tr th {\n",
       "        vertical-align: top;\n",
       "    }\n",
       "\n",
       "    .dataframe thead th {\n",
       "        text-align: right;\n",
       "    }\n",
       "</style>\n",
       "<table border=\"1\" class=\"dataframe\">\n",
       "  <thead>\n",
       "    <tr style=\"text-align: right;\">\n",
       "      <th></th>\n",
       "      <th>productid</th>\n",
       "      <th>userid</th>\n",
       "      <th>score</th>\n",
       "      <th>text</th>\n",
       "      <th>clean_text</th>\n",
       "      <th>sentiment</th>\n",
       "    </tr>\n",
       "  </thead>\n",
       "  <tbody>\n",
       "    <tr>\n",
       "      <th>422</th>\n",
       "      <td>B000G6RYNE</td>\n",
       "      <td>A2NO1TXXS9T0EE</td>\n",
       "      <td>4</td>\n",
       "      <td>great if you are cutting back on fat, they do ...</td>\n",
       "      <td>great cutting back fat resemble regular chips ...</td>\n",
       "      <td>positive</td>\n",
       "    </tr>\n",
       "    <tr>\n",
       "      <th>423</th>\n",
       "      <td>B000G6RYNE</td>\n",
       "      <td>A1IRN1M05TPOVT</td>\n",
       "      <td>5</td>\n",
       "      <td>i have never met a kettle brand chip i did not...</td>\n",
       "      <td>never met kettle brand chip like chips great l...</td>\n",
       "      <td>positive</td>\n",
       "    </tr>\n",
       "    <tr>\n",
       "      <th>424</th>\n",
       "      <td>B000G6RYNE</td>\n",
       "      <td>ARONI7W0W677H</td>\n",
       "      <td>5</td>\n",
       "      <td>after buying bags one at a time (at a hefty ma...</td>\n",
       "      <td>buying bags one time hefty markup nearby store...</td>\n",
       "      <td>positive</td>\n",
       "    </tr>\n",
       "    <tr>\n",
       "      <th>425</th>\n",
       "      <td>B000G6RYNE</td>\n",
       "      <td>A1Y3XPZK9ZADFW</td>\n",
       "      <td>4</td>\n",
       "      <td>i buy mostly for vending, so the size of the b...</td>\n",
       "      <td>buy mostly vending size bag important kettle's...</td>\n",
       "      <td>positive</td>\n",
       "    </tr>\n",
       "    <tr>\n",
       "      <th>426</th>\n",
       "      <td>B000G6RYNE</td>\n",
       "      <td>A1Y3XPZK9ZADFW</td>\n",
       "      <td>4</td>\n",
       "      <td>glad to find these in a one ounce size but the...</td>\n",
       "      <td>glad find one ounce size bag seems bit less fu...</td>\n",
       "      <td>positive</td>\n",
       "    </tr>\n",
       "  </tbody>\n",
       "</table>\n",
       "</div>"
      ],
      "text/plain": [
       "      productid          userid  score  \\\n",
       "422  B000G6RYNE  A2NO1TXXS9T0EE      4   \n",
       "423  B000G6RYNE  A1IRN1M05TPOVT      5   \n",
       "424  B000G6RYNE   ARONI7W0W677H      5   \n",
       "425  B000G6RYNE  A1Y3XPZK9ZADFW      4   \n",
       "426  B000G6RYNE  A1Y3XPZK9ZADFW      4   \n",
       "\n",
       "                                                  text  \\\n",
       "422  great if you are cutting back on fat, they do ...   \n",
       "423  i have never met a kettle brand chip i did not...   \n",
       "424  after buying bags one at a time (at a hefty ma...   \n",
       "425  i buy mostly for vending, so the size of the b...   \n",
       "426  glad to find these in a one ounce size but the...   \n",
       "\n",
       "                                            clean_text sentiment  \n",
       "422  great cutting back fat resemble regular chips ...  positive  \n",
       "423  never met kettle brand chip like chips great l...  positive  \n",
       "424  buying bags one time hefty markup nearby store...  positive  \n",
       "425  buy mostly vending size bag important kettle's...  positive  \n",
       "426  glad find one ounce size bag seems bit less fu...  positive  "
      ]
     },
     "execution_count": 340,
     "metadata": {},
     "output_type": "execute_result"
    }
   ],
   "source": [
    "product_df = df[['productid']]\n",
    "most_reviwed_products = product_df['productid'].value_counts()[:50]\n",
    "most_reviwed_products = list(most_reviwed_products.index)\n",
    "\n",
    "basa_df = pd.DataFrame()\n",
    "basa_df = basa_df.append(df[df['productid'].isin(most_reviwed_products)])\n",
    "\n",
    "basa_df.head()"
   ]
  },
  {
   "cell_type": "code",
   "execution_count": 341,
   "metadata": {},
   "outputs": [
    {
     "data": {
      "text/html": [
       "<div>\n",
       "<style scoped>\n",
       "    .dataframe tbody tr th:only-of-type {\n",
       "        vertical-align: middle;\n",
       "    }\n",
       "\n",
       "    .dataframe tbody tr th {\n",
       "        vertical-align: top;\n",
       "    }\n",
       "\n",
       "    .dataframe thead th {\n",
       "        text-align: right;\n",
       "    }\n",
       "</style>\n",
       "<table border=\"1\" class=\"dataframe\">\n",
       "  <thead>\n",
       "    <tr style=\"text-align: right;\">\n",
       "      <th></th>\n",
       "      <th>productid</th>\n",
       "      <th>userid</th>\n",
       "      <th>score</th>\n",
       "      <th>text</th>\n",
       "      <th>clean_text</th>\n",
       "      <th>sentiment</th>\n",
       "      <th>n_sentences</th>\n",
       "    </tr>\n",
       "  </thead>\n",
       "  <tbody>\n",
       "    <tr>\n",
       "      <th>422</th>\n",
       "      <td>B000G6RYNE</td>\n",
       "      <td>A2NO1TXXS9T0EE</td>\n",
       "      <td>4</td>\n",
       "      <td>great if you are cutting back on fat, they do ...</td>\n",
       "      <td>great cutting back fat resemble regular chips ...</td>\n",
       "      <td>positive</td>\n",
       "      <td>2</td>\n",
       "    </tr>\n",
       "    <tr>\n",
       "      <th>423</th>\n",
       "      <td>B000G6RYNE</td>\n",
       "      <td>A1IRN1M05TPOVT</td>\n",
       "      <td>5</td>\n",
       "      <td>i have never met a kettle brand chip i did not...</td>\n",
       "      <td>never met kettle brand chip like chips great l...</td>\n",
       "      <td>positive</td>\n",
       "      <td>4</td>\n",
       "    </tr>\n",
       "    <tr>\n",
       "      <th>424</th>\n",
       "      <td>B000G6RYNE</td>\n",
       "      <td>ARONI7W0W677H</td>\n",
       "      <td>5</td>\n",
       "      <td>after buying bags one at a time (at a hefty ma...</td>\n",
       "      <td>buying bags one time hefty markup nearby store...</td>\n",
       "      <td>positive</td>\n",
       "      <td>7</td>\n",
       "    </tr>\n",
       "    <tr>\n",
       "      <th>425</th>\n",
       "      <td>B000G6RYNE</td>\n",
       "      <td>A1Y3XPZK9ZADFW</td>\n",
       "      <td>4</td>\n",
       "      <td>i buy mostly for vending, so the size of the b...</td>\n",
       "      <td>buy mostly vending size bag important kettle's...</td>\n",
       "      <td>positive</td>\n",
       "      <td>3</td>\n",
       "    </tr>\n",
       "    <tr>\n",
       "      <th>426</th>\n",
       "      <td>B000G6RYNE</td>\n",
       "      <td>A1Y3XPZK9ZADFW</td>\n",
       "      <td>4</td>\n",
       "      <td>glad to find these in a one ounce size but the...</td>\n",
       "      <td>glad find one ounce size bag seems bit less fu...</td>\n",
       "      <td>positive</td>\n",
       "      <td>6</td>\n",
       "    </tr>\n",
       "  </tbody>\n",
       "</table>\n",
       "</div>"
      ],
      "text/plain": [
       "      productid          userid  score  \\\n",
       "422  B000G6RYNE  A2NO1TXXS9T0EE      4   \n",
       "423  B000G6RYNE  A1IRN1M05TPOVT      5   \n",
       "424  B000G6RYNE   ARONI7W0W677H      5   \n",
       "425  B000G6RYNE  A1Y3XPZK9ZADFW      4   \n",
       "426  B000G6RYNE  A1Y3XPZK9ZADFW      4   \n",
       "\n",
       "                                                  text  \\\n",
       "422  great if you are cutting back on fat, they do ...   \n",
       "423  i have never met a kettle brand chip i did not...   \n",
       "424  after buying bags one at a time (at a hefty ma...   \n",
       "425  i buy mostly for vending, so the size of the b...   \n",
       "426  glad to find these in a one ounce size but the...   \n",
       "\n",
       "                                            clean_text sentiment  n_sentences  \n",
       "422  great cutting back fat resemble regular chips ...  positive            2  \n",
       "423  never met kettle brand chip like chips great l...  positive            4  \n",
       "424  buying bags one time hefty markup nearby store...  positive            7  \n",
       "425  buy mostly vending size bag important kettle's...  positive            3  \n",
       "426  glad find one ounce size bag seems bit less fu...  positive            6  "
      ]
     },
     "execution_count": 341,
     "metadata": {},
     "output_type": "execute_result"
    }
   ],
   "source": [
    "lenghts = []\n",
    "for index, row in basa_df.iterrows():\n",
    "    text_splitted = row['text'].split('.')\n",
    "    text_splitted = [phrase for phrase in text_splitted if phrase]\n",
    "    lenghts.append(len(text_splitted))\n",
    "basa_df['n_sentences'] = lenghts\n",
    "\n",
    "basa_df.head()"
   ]
  },
  {
   "cell_type": "markdown",
   "metadata": {},
   "source": [
    "### Input for ASUM"
   ]
  },
  {
   "cell_type": "code",
   "execution_count": 457,
   "metadata": {},
   "outputs": [
    {
     "data": {
      "text/html": [
       "<div>\n",
       "<style scoped>\n",
       "    .dataframe tbody tr th:only-of-type {\n",
       "        vertical-align: middle;\n",
       "    }\n",
       "\n",
       "    .dataframe tbody tr th {\n",
       "        vertical-align: top;\n",
       "    }\n",
       "\n",
       "    .dataframe thead th {\n",
       "        text-align: right;\n",
       "    }\n",
       "</style>\n",
       "<table border=\"1\" class=\"dataframe\">\n",
       "  <thead>\n",
       "    <tr style=\"text-align: right;\">\n",
       "      <th></th>\n",
       "      <th>productid</th>\n",
       "      <th>userid</th>\n",
       "      <th>score</th>\n",
       "      <th>text</th>\n",
       "      <th>clean_text</th>\n",
       "      <th>sentiment</th>\n",
       "    </tr>\n",
       "  </thead>\n",
       "  <tbody>\n",
       "    <tr>\n",
       "      <th>0</th>\n",
       "      <td>B001E4KFG0</td>\n",
       "      <td>A3SGXH7AUHU8GW</td>\n",
       "      <td>5</td>\n",
       "      <td>i have bought several of the vitality canned d...</td>\n",
       "      <td>bought several vitality canned dog food produc...</td>\n",
       "      <td>positive</td>\n",
       "    </tr>\n",
       "  </tbody>\n",
       "</table>\n",
       "</div>"
      ],
      "text/plain": [
       "    productid          userid  score  \\\n",
       "0  B001E4KFG0  A3SGXH7AUHU8GW      5   \n",
       "\n",
       "                                                text  \\\n",
       "0  i have bought several of the vitality canned d...   \n",
       "\n",
       "                                          clean_text sentiment  \n",
       "0  bought several vitality canned dog food produc...  positive  "
      ]
     },
     "execution_count": 457,
     "metadata": {},
     "output_type": "execute_result"
    }
   ],
   "source": [
    "df = pd.read_csv('clean_dataset.csv', sep = ';', encoding='latin-1')\n",
    "df.head(1)"
   ]
  },
  {
   "cell_type": "code",
   "execution_count": 458,
   "metadata": {},
   "outputs": [
    {
     "data": {
      "text/html": [
       "<div>\n",
       "<style scoped>\n",
       "    .dataframe tbody tr th:only-of-type {\n",
       "        vertical-align: middle;\n",
       "    }\n",
       "\n",
       "    .dataframe tbody tr th {\n",
       "        vertical-align: top;\n",
       "    }\n",
       "\n",
       "    .dataframe thead th {\n",
       "        text-align: right;\n",
       "    }\n",
       "</style>\n",
       "<table border=\"1\" class=\"dataframe\">\n",
       "  <thead>\n",
       "    <tr style=\"text-align: right;\">\n",
       "      <th></th>\n",
       "      <th>productid</th>\n",
       "      <th>userid</th>\n",
       "      <th>score</th>\n",
       "      <th>text</th>\n",
       "      <th>clean_text</th>\n",
       "      <th>sentiment</th>\n",
       "    </tr>\n",
       "  </thead>\n",
       "  <tbody>\n",
       "    <tr>\n",
       "      <th>422</th>\n",
       "      <td>B000G6RYNE</td>\n",
       "      <td>A2NO1TXXS9T0EE</td>\n",
       "      <td>4</td>\n",
       "      <td>great if you are cutting back on fat, they do ...</td>\n",
       "      <td>great cutting back fat resemble regular chips ...</td>\n",
       "      <td>positive</td>\n",
       "    </tr>\n",
       "    <tr>\n",
       "      <th>423</th>\n",
       "      <td>B000G6RYNE</td>\n",
       "      <td>A1IRN1M05TPOVT</td>\n",
       "      <td>5</td>\n",
       "      <td>i have never met a kettle brand chip i did not...</td>\n",
       "      <td>never met kettle brand chip like chips great l...</td>\n",
       "      <td>positive</td>\n",
       "    </tr>\n",
       "    <tr>\n",
       "      <th>424</th>\n",
       "      <td>B000G6RYNE</td>\n",
       "      <td>ARONI7W0W677H</td>\n",
       "      <td>5</td>\n",
       "      <td>after buying bags one at a time (at a hefty ma...</td>\n",
       "      <td>buying bags one time hefty markup nearby store...</td>\n",
       "      <td>positive</td>\n",
       "    </tr>\n",
       "    <tr>\n",
       "      <th>425</th>\n",
       "      <td>B000G6RYNE</td>\n",
       "      <td>A1Y3XPZK9ZADFW</td>\n",
       "      <td>4</td>\n",
       "      <td>i buy mostly for vending, so the size of the b...</td>\n",
       "      <td>buy mostly vending size bag important kettle's...</td>\n",
       "      <td>positive</td>\n",
       "    </tr>\n",
       "    <tr>\n",
       "      <th>426</th>\n",
       "      <td>B000G6RYNE</td>\n",
       "      <td>A1Y3XPZK9ZADFW</td>\n",
       "      <td>4</td>\n",
       "      <td>glad to find these in a one ounce size but the...</td>\n",
       "      <td>glad find one ounce size bag seems bit less fu...</td>\n",
       "      <td>positive</td>\n",
       "    </tr>\n",
       "  </tbody>\n",
       "</table>\n",
       "</div>"
      ],
      "text/plain": [
       "      productid          userid  score  \\\n",
       "422  B000G6RYNE  A2NO1TXXS9T0EE      4   \n",
       "423  B000G6RYNE  A1IRN1M05TPOVT      5   \n",
       "424  B000G6RYNE   ARONI7W0W677H      5   \n",
       "425  B000G6RYNE  A1Y3XPZK9ZADFW      4   \n",
       "426  B000G6RYNE  A1Y3XPZK9ZADFW      4   \n",
       "\n",
       "                                                  text  \\\n",
       "422  great if you are cutting back on fat, they do ...   \n",
       "423  i have never met a kettle brand chip i did not...   \n",
       "424  after buying bags one at a time (at a hefty ma...   \n",
       "425  i buy mostly for vending, so the size of the b...   \n",
       "426  glad to find these in a one ounce size but the...   \n",
       "\n",
       "                                            clean_text sentiment  \n",
       "422  great cutting back fat resemble regular chips ...  positive  \n",
       "423  never met kettle brand chip like chips great l...  positive  \n",
       "424  buying bags one time hefty markup nearby store...  positive  \n",
       "425  buy mostly vending size bag important kettle's...  positive  \n",
       "426  glad find one ounce size bag seems bit less fu...  positive  "
      ]
     },
     "execution_count": 458,
     "metadata": {},
     "output_type": "execute_result"
    }
   ],
   "source": [
    "product_df = df[['productid']]\n",
    "most_reviwed_products = product_df['productid'].value_counts()[:50]\n",
    "most_reviwed_products = list(most_reviwed_products.index)\n",
    "\n",
    "basa_df = pd.DataFrame()\n",
    "basa_df = basa_df.append(df[df['productid'].isin(most_reviwed_products)])\n",
    "\n",
    "basa_df.head()"
   ]
  },
  {
   "cell_type": "code",
   "execution_count": 459,
   "metadata": {},
   "outputs": [
    {
     "data": {
      "text/plain": [
       "12112"
      ]
     },
     "execution_count": 459,
     "metadata": {},
     "output_type": "execute_result"
    }
   ],
   "source": [
    "reviews = list(basa_df['text'])\n",
    "len(reviews)"
   ]
  },
  {
   "cell_type": "code",
   "execution_count": 460,
   "metadata": {},
   "outputs": [],
   "source": [
    "reviews_phrases = [review.split('.') for review in reviews]\n",
    "\n",
    "clean_reviews_phrases = []\n",
    "for review in reviews_phrases:\n",
    "    clean_reviews_phrases.append([phrase for phrase in review if phrase and not phrase == ' '])"
   ]
  },
  {
   "cell_type": "code",
   "execution_count": 461,
   "metadata": {},
   "outputs": [
    {
     "data": {
      "text/plain": [
       "30990"
      ]
     },
     "execution_count": 461,
     "metadata": {},
     "output_type": "execute_result"
    }
   ],
   "source": [
    "asum_words = [phrase.split() for review in clean_reviews_phrases for phrase in review]\n",
    "asum_words = [item for phrase in asum_words for item in phrase]\n",
    "asum_words = sorted(set(asum_words))\n",
    "\n",
    "with open('WordList.txt', 'w') as words_output:  \n",
    "    words_output.writelines(f'{word}\\n' for word in asum_words)\n",
    "words_output.close()\n",
    "\n",
    "len(asum_words)"
   ]
  },
  {
   "cell_type": "code",
   "execution_count": 462,
   "metadata": {},
   "outputs": [],
   "source": [
    "asum_words_dict = {}\n",
    "for key, value in enumerate(asum_words):\n",
    "    asum_words_dict[value] = key"
   ]
  },
  {
   "cell_type": "code",
   "execution_count": 464,
   "metadata": {},
   "outputs": [],
   "source": [
    "with open('Phrase.txt', 'w') as phrase_output:  \n",
    "    for review in clean_reviews_phrases:\n",
    "        phrase_output.writelines(f'{len(review)}\\n')\n",
    "        for phrase in review:\n",
    "            phrase_output.writelines(f'{asum_words_dict[item]} ' for item in phrase.split())\n",
    "            phrase_output.writelines('\\n')\n",
    "\n",
    "phrase_output.close()"
   ]
  },
  {
   "cell_type": "code",
   "execution_count": null,
   "metadata": {},
   "outputs": [],
   "source": []
  }
 ],
 "metadata": {
  "kernelspec": {
   "display_name": "Python 3",
   "language": "python",
   "name": "python3"
  },
  "language_info": {
   "codemirror_mode": {
    "name": "ipython",
    "version": 3
   },
   "file_extension": ".py",
   "mimetype": "text/x-python",
   "name": "python",
   "nbconvert_exporter": "python",
   "pygments_lexer": "ipython3",
   "version": "3.6.8"
  }
 },
 "nbformat": 4,
 "nbformat_minor": 2
}
